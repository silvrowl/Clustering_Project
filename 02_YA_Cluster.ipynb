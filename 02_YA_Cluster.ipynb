{
 "cells": [
  {
   "cell_type": "code",
   "execution_count": 281,
   "metadata": {},
   "outputs": [
    {
     "name": "stdout",
     "output_type": "stream",
     "text": [
      "(50000, 25)\n",
      "       shop_diff_min  shop_diff_max  shop_diff_mean\n",
      "count     527.000000     527.000000      527.000000\n",
      "mean        1.599620     118.700190       19.759234\n",
      "std         8.302563     134.780477       28.110834\n",
      "min         0.000000       6.000000        1.043367\n",
      "25%         0.000000      34.000000        5.652264\n",
      "50%         0.000000      63.000000       10.061728\n",
      "75%         1.000000     153.500000       22.942017\n",
      "max       153.000000     719.000000      297.000000\n"
     ]
    }
   ],
   "source": [
    "import pandas as pd\n",
    "import numpy as np\n",
    "import matplotlib.pyplot as plt\n",
    "import seaborn as sns\n",
    "from sklearn.decomposition import PCA\n",
    "from sklearn.preprocessing import StandardScaler\n",
    "pd.set_option('display.max_columns',100)\n",
    "\n",
    "basket_df = pd.read_csv(\"./csv_files/Trans_by_Basket_50000_Cust_YA_no_XX.csv\",parse_dates=[23])\n",
    "\n",
    "print(basket_df.shape)\n",
    "\n",
    "basket_df = basket_df.drop(columns = ['basket_id.1','time_id.1','cust_id.1','store_id.1'])\n",
    "\n",
    "#Find an average frequency between visits?\n",
    "\n",
    "basket_df_time = basket_df[['cust_id','shop_date']]\n",
    "\n",
    "#asket_df_time.head(100)\n",
    "\n",
    "#Unique_Cust = basket_df_time['cust_id'].unique()\n",
    "\n",
    "#rint(Unique_Cust)\n",
    "\n",
    "\n",
    "#for cust in Unique_Cust[1:10]:\n",
    "#    excursion = basket_df_time[basket_df_time['cust_id']==cust]['shop_date']\n",
    "#    print(excursion.diff)\n",
    "\n",
    "test = pd.DataFrame(columns = ['date','diff'])\n",
    "\n",
    "#df.groupby('item_id')['date'].diff()\n",
    "\n",
    "test['date'] = basket_df_time.groupby('cust_id')['shop_date'].apply(lambda x: x.sort_values())\n",
    "#test['diff'] = test['date'].diff() / np.timedelta64(1, 'D')\n",
    "\n",
    "test['diff'] = test.groupby('cust_id')['date'].diff() / np.timedelta64(1, 'D')\n",
    "\n",
    "test = test.dropna()\n",
    "    \n",
    "#print(test)\n",
    "\n",
    "date_diff = test.groupby('cust_id')['diff'].agg(['min', 'max','mean'])\n",
    "#test.describe()\n",
    "\n",
    "date_diff.columns = ['shop_diff_min','shop_diff_max','shop_diff_mean']\n",
    "\n",
    "print(date_diff.describe())"
   ]
  },
  {
   "cell_type": "code",
   "execution_count": null,
   "metadata": {},
   "outputs": [],
   "source": []
  },
  {
   "cell_type": "code",
   "execution_count": 282,
   "metadata": {},
   "outputs": [
    {
     "name": "stderr",
     "output_type": "stream",
     "text": [
      "/home/dan/anaconda3/lib/python3.7/site-packages/ipykernel_launcher.py:67: FutureWarning: Sorting because non-concatenation axis is not aligned. A future version\n",
      "of pandas will change to not sort by default.\n",
      "\n",
      "To accept the future behavior, pass 'sort=False'.\n",
      "\n",
      "To retain the current behavior and silence the warning, pass 'sort=True'.\n",
      "\n"
     ]
    }
   ],
   "source": [
    "X = basket_df[['store_id','std_quantity','nunique_products',\n",
    "              'n_products','sum_spend','cust_price_sensitivity',\n",
    "              'basket_size', 'basket_price_sensitivity',\n",
    "             'basket_type','basket_dominant_mission','store_format','store_region']]\n",
    "\n",
    "#X['cust_lifestage'].fillna('OT')\n",
    "\n",
    "#Groupby Customer\n",
    "scaler = StandardScaler()\n",
    "\n",
    "# Need to Dummy my variables first\n",
    "\n",
    "X_cat = X[['cust_price_sensitivity',\n",
    "              'basket_size', 'basket_price_sensitivity',\n",
    "             'basket_type','basket_dominant_mission']]\n",
    "X_num = X[['std_quantity','nunique_products','n_products','sum_spend']]\n",
    "\n",
    "X_dum = pd.get_dummies(X_cat)\n",
    "#X_num_scale = pd.DataFrame(scaler.fit_transform(X_num),columns=['std_quantity','nunique_products','n_products','sum_spend'])\n",
    "           \n",
    "X_all = pd.concat([X_num,X_dum],axis=1)\n",
    "\n",
    "X_all = pd.concat([basket_df['cust_id'],X_all],axis=1)\n",
    "\n",
    "X_all_cust_grp  = X_all.groupby('cust_id').agg({ 'std_quantity' : ['mean'],\n",
    "                            'nunique_products' : ['mean'],\n",
    "                            'n_products': ['mean'],\n",
    "                            'sum_spend': ['mean','max'],\n",
    "                            'cust_price_sensitivity_LA': ['max'],\n",
    "                            'cust_price_sensitivity_MM': ['max'],\n",
    "                            'cust_price_sensitivity_UM': ['max'],\n",
    "                            'basket_size_L' : ['max', 'sum','count'],\n",
    "                            'basket_size_M' : ['max', 'sum'],\n",
    "                            'basket_size_S' : ['max', 'sum'],\n",
    "                            'basket_price_sensitivity_LA' : ['max', 'sum'],\n",
    "                            'basket_price_sensitivity_MM' : ['max', 'sum'],\n",
    "                            'basket_price_sensitivity_UM' : ['max', 'sum'],\n",
    "                            'basket_type_Full Shop' : ['max', 'sum'], \n",
    "                            'basket_type_Small Shop': ['max', 'sum'], \n",
    "                            'basket_type_Top Up': ['max', 'sum'],\n",
    "                            'basket_dominant_mission_Fresh': ['max', 'sum'],\n",
    "                            'basket_dominant_mission_Grocery': ['max', 'sum'],\n",
    "                            'basket_dominant_mission_Mixed': ['max', 'sum'],\n",
    "                            'basket_dominant_mission_Nonfood': ['max', 'sum'] })\n",
    "\n",
    "X_all_cust_grp.columns = [\"_\".join(x) for x in X_all_cust_grp.columns.ravel()]\n",
    "\n",
    "sum_columns = ['basket_size_L_sum', \n",
    "               'basket_size_M_sum', \n",
    "               'basket_size_S_sum', \n",
    "               'basket_price_sensitivity_LA_sum', \n",
    "               'basket_price_sensitivity_MM_sum', \n",
    "               'basket_price_sensitivity_UM_sum',\n",
    "               'basket_type_Full Shop_sum', \n",
    "               'basket_type_Small Shop_sum', \n",
    "               'basket_type_Top Up_sum', \n",
    "               'basket_dominant_mission_Fresh_sum',\n",
    "               'basket_dominant_mission_Grocery_sum',\n",
    "               'basket_dominant_mission_Mixed_sum',\n",
    "               'basket_dominant_mission_Nonfood_sum']\n",
    "\n",
    "for col in sum_columns:\n",
    "    X_all_cust_grp[col] = X_all_cust_grp[col] / X_all_cust_grp['basket_size_L_count']\n",
    "\n",
    "X_all_cust_grp.rename(columns={\"basket_size_L_count\": \"basket_count\"})\n",
    "\n",
    "X_all_cust_grp = pd.concat([X_all_cust_grp,date_diff],axis=1)\n",
    "\n",
    "X_all_cust_grp.head()\n",
    "\n",
    "X_all_cust_grp_scale = pd.DataFrame(scaler.fit_transform(X_all_cust_grp),\n",
    "                                    columns=X_all_cust_grp.columns,index=X_all_cust_grp.index)\n",
    "\n",
    "X_all_cust_grp = X_all_cust_grp[ ~X_all_cust_grp_scale.isna().any(axis=1) ] \n",
    "\n",
    "X_all_cust_grp_scale = X_all_cust_grp_scale.dropna()\n"
   ]
  },
  {
   "cell_type": "code",
   "execution_count": 283,
   "metadata": {},
   "outputs": [
    {
     "data": {
      "text/plain": [
       "array([0.22736846, 0.11634759, 0.09527199, 0.06388215, 0.05528814,\n",
       "       0.05084316, 0.03636033, 0.03410353, 0.02930211, 0.02772977,\n",
       "       0.02687562, 0.02540524, 0.0204597 ])"
      ]
     },
     "execution_count": 283,
     "metadata": {},
     "output_type": "execute_result"
    }
   ],
   "source": [
    "pca_grp = PCA(n_components = 0.8)\n",
    "\n",
    "X_all_cust_grp_scale_pca = pca_grp.fit_transform(X_all_cust_grp_scale)\n",
    "\n",
    "#plt.bar(['PC1', 'PC2','PC3','PC4'], [0:3])\n",
    "\n",
    "#plt.xlabel('Principal Components')\n",
    "#plt.ylabel('Explained Variance Ratio')\n",
    "\n",
    "pca_grp.explained_variance_ratio_\n"
   ]
  },
  {
   "cell_type": "code",
   "execution_count": 284,
   "metadata": {},
   "outputs": [],
   "source": [
    "import itertools\n",
    "\n",
    "#X_all_cust_grp.drop(columns='cust_id')\n",
    "\n",
    "model_iterator = itertools.product({'average', 'single', 'complete'}, range(2,10))\n",
    "\n",
    "from sklearn.cluster import AgglomerativeClustering\n",
    "from sklearn.metrics import silhouette_score\n",
    "\n",
    "#X_all_cust_grp_scale = pd.DataFrame(scaler.fit_transform(X_all_cust_grp),\n",
    "#                                    columns=X_all_cust_grp.columns)\n",
    "\n",
    "agg_model_list = [ AgglomerativeClustering(affinity = 'cosine', linkage = linkage, \n",
    "                  n_clusters = number).fit(X_all_cust_grp_scale_pca) for linkage,number in model_iterator]\n",
    "\n",
    "agg_model_sil_list = [silhouette_score(X_all_cust_grp_scale_pca,model.labels_, metric = 'cosine') for model in agg_model_list]\n",
    "\n",
    "model_iterator = itertools.product({'average', 'single', 'complete'}, range(2,10))\n",
    "\n",
    "agg_model_all_df = pd.DataFrame(model_iterator, columns =['linkage','n_comp'])\n",
    "\n",
    "agg_model_all_df['sil'] = agg_model_sil_list \n",
    "\n",
    "#sns.catplot(x='n_comp',y='sil', hue= 'linkage',data=agg_model_all_df,kind='bar')"
   ]
  },
  {
   "cell_type": "code",
   "execution_count": 285,
   "metadata": {},
   "outputs": [
    {
     "data": {
      "text/plain": [
       "<seaborn.axisgrid.FacetGrid at 0x7fbef08d65d0>"
      ]
     },
     "execution_count": 285,
     "metadata": {},
     "output_type": "execute_result"
    },
    {
     "data": {
      "image/png": "[encoded data removed]",
      "text/plain": [
       "<Figure size 442.375x360 with 1 Axes>"
      ]
     },
     "metadata": {
      "needs_background": "light"
     },
     "output_type": "display_data"
    }
   ],
   "source": [
    "sns.catplot(x='n_comp',y='sil', hue= 'linkage',data=agg_model_all_df,kind='bar')"
   ]
  },
  {
   "cell_type": "code",
   "execution_count": 286,
   "metadata": {},
   "outputs": [
    {
     "name": "stdout",
     "output_type": "stream",
     "text": [
      "316\n",
      "211\n",
      "                                     count      mean       std        min  \\\n",
      "basket_type_Small Shop_sum             0.0  3.306814 -0.616059   3.564191   \n",
      "basket_size_S_sum                      0.0  2.824468  0.161899   1.295230   \n",
      "basket_size_M_sum                      0.0  1.806762 -0.765467   1.966569   \n",
      "basket_dominant_mission_Grocery_sum    0.0  1.239972 -0.132143   1.157746   \n",
      "basket_size_S_max                      0.0  0.966368 -2.480634   2.913559   \n",
      "basket_dominant_mission_Nonfood_sum    0.0  0.919463 -0.154191   0.698229   \n",
      "basket_dominant_mission_Nonfood_max    0.0  0.754647 -1.183576   1.338535   \n",
      "basket_type_Small Shop_max             0.0  0.631193 -3.209828  13.671449   \n",
      "basket_dominant_mission_Fresh_sum      0.0  0.499403 -0.878407   2.315936   \n",
      "basket_size_L_count                    0.0  0.451117  0.150369   0.783176   \n",
      "basket_price_sensitivity_LA_max        0.0  0.397598 -1.337041   2.352305   \n",
      "basket_price_sensitivity_MM_sum        0.0  0.381616 -1.177344   3.132259   \n",
      "basket_dominant_mission_Grocery_max    0.0  0.372133 -1.376809   2.608285   \n",
      "basket_price_sensitivity_MM_max        0.0  0.360247 -3.236225  23.585600   \n",
      "basket_size_M_max                      0.0  0.317230 -2.172686   5.468379   \n",
      "basket_dominant_mission_Fresh_max      0.0  0.169830 -1.779412   7.194063   \n",
      "basket_price_sensitivity_UM_max        0.0  0.129565 -1.040246   2.801523   \n",
      "cust_price_sensitivity_MM_max          0.0  0.094349 -0.818269   0.714797   \n",
      "basket_price_sensitivity_LA_sum        0.0  0.036025 -1.330266   0.868864   \n",
      "shop_diff_max                          0.0 -0.048205 -0.928437   0.583317   \n",
      "cust_price_sensitivity_UM_max          0.0 -0.051664 -0.847810   0.627815   \n",
      "cust_price_sensitivity_LA_max          0.0 -0.053499 -0.870673   0.428054   \n",
      "shop_diff_mean                         0.0 -0.284173 -1.673651   0.424477   \n",
      "shop_diff_min                          0.0 -0.298111 -2.698399   0.160047   \n",
      "basket_price_sensitivity_UM_sum        0.0 -0.357730 -1.243170   1.062118   \n",
      "basket_type_Top Up_max                 0.0 -0.452593  0.890806   4.876965   \n",
      "basket_dominant_mission_Mixed_max      0.0 -0.613206  0.832358   3.592723   \n",
      "basket_size_L_max                      0.0 -1.025676  1.441484   2.732965   \n",
      "sum_spend_max                          0.0 -1.720620 -1.634579   0.995265   \n",
      "basket_type_Full Shop_max              0.0 -1.953277  0.324590   1.157344   \n",
      "basket_dominant_mission_Mixed_sum      0.0 -2.002003 -1.287759   1.291363   \n",
      "sum_spend_mean                         0.0 -2.311114 -1.832412   0.065558   \n",
      "basket_type_Top Up_sum                 0.0 -2.348623 -0.992152   1.332545   \n",
      "std_quantity_mean                      0.0 -2.424255 -1.337523   0.003784   \n",
      "basket_type_Full Shop_sum              0.0 -2.441988 -2.300108   0.545827   \n",
      "n_products_mean                        0.0 -2.932423 -1.637027  -0.449036   \n",
      "nunique_products_mean                  0.0 -3.058785 -1.713302  -0.794295   \n",
      "basket_size_L_sum                      0.0 -3.356085 -0.957866   1.033011   \n",
      "\n",
      "                                          25%       50%       75%        max  \n",
      "basket_type_Small Shop_sum           3.763732  3.162465  2.761421   1.637082  \n",
      "basket_size_S_sum                    2.732526  2.808992  2.923350   2.230343  \n",
      "basket_size_M_sum                    2.377169  1.788812  1.253569  -2.925778  \n",
      "basket_dominant_mission_Grocery_sum  1.338872  1.230634  1.140396   0.693534  \n",
      "basket_size_S_max                   -0.236394 -0.236394 -0.236394  -0.236394  \n",
      "basket_dominant_mission_Nonfood_sum  1.211586  1.077238  0.737649  -2.725471  \n",
      "basket_dominant_mission_Nonfood_max  5.062363 -0.514554 -0.514554  -0.514554  \n",
      "basket_type_Small Shop_max          -0.155154 -0.155154 -0.155154  -0.155154  \n",
      "basket_dominant_mission_Fresh_sum    1.043498  0.278153  0.055476  -2.051266  \n",
      "basket_size_L_count                  0.565627  0.185917  0.200947   5.836250  \n",
      "basket_price_sensitivity_LA_max     -0.292797 -0.292797 -0.292797  -0.292797  \n",
      "basket_price_sensitivity_MM_sum      1.025525 -0.028310 -0.475543  -2.169961  \n",
      "basket_dominant_mission_Grocery_max -0.264062 -0.264062 -0.264062  -0.264062  \n",
      "basket_price_sensitivity_MM_max     -0.088552 -0.088552 -0.088552  -0.088552  \n",
      "basket_size_M_max                   -0.125951 -0.125951 -0.125951  -0.125951  \n",
      "basket_dominant_mission_Fresh_max   -0.095738 -0.095738 -0.095738  -0.095738  \n",
      "basket_price_sensitivity_UM_max     -0.245848 -0.245848 -0.245848  -0.245848  \n",
      "cust_price_sensitivity_MM_max        0.714797  0.714797 -0.963559  -0.963559  \n",
      "basket_price_sensitivity_LA_sum      0.956070  0.400173 -0.008735  -4.769109  \n",
      "shop_diff_max                        0.531310  0.448457 -0.152659  -2.716768  \n",
      "cust_price_sensitivity_UM_max        0.627815  0.627815 -1.097057  -1.097057  \n",
      "cust_price_sensitivity_LA_max        0.428054  0.428054  0.428054  -1.609024  \n",
      "shop_diff_mean                       0.297691  0.202045 -0.065319 -14.625843  \n",
      "shop_diff_min                        0.160047  0.160047  0.059994 -35.253994  \n",
      "basket_price_sensitivity_UM_sum      0.470283 -0.176143 -1.204389  -3.661270  \n",
      "basket_type_Top Up_max              -0.141225 -0.141225 -0.141225  -0.141225  \n",
      "basket_dominant_mission_Mixed_max   -0.191707 -0.191707 -0.191707  -0.191707  \n",
      "basket_size_L_max                   -0.252015 -0.252015 -0.252015  -0.252015  \n",
      "sum_spend_max                       -0.959361 -1.495149 -2.090370 -17.546642  \n",
      "basket_type_Full Shop_max           -4.116712 -4.116712 -0.595111  -0.595111  \n",
      "basket_dominant_mission_Mixed_sum   -1.091847 -1.726554 -2.489895  -7.688968  \n",
      "sum_spend_mean                      -1.158210 -1.784297 -2.846444 -14.224442  \n",
      "basket_type_Top Up_sum              -1.847823 -2.318624 -2.980777  -4.959340  \n",
      "std_quantity_mean                   -1.510407 -2.171945 -2.735375  -7.523202  \n",
      "basket_type_Full Shop_sum           -0.536401 -1.974530 -4.098606  -8.550006  \n",
      "n_products_mean                     -1.771090 -2.572233 -3.511465 -10.816129  \n",
      "nunique_products_mean               -1.853988 -2.576285 -3.808117 -13.121699  \n",
      "basket_size_L_sum                   -2.647781 -3.167478 -3.898324  -4.977328  \n"
     ]
    }
   ],
   "source": [
    "best_agg_model = AgglomerativeClustering(affinity = 'cosine', linkage = 'complete', \n",
    "                  n_clusters = 2).fit(X_all_cust_grp_scale_pca) \n",
    "\n",
    "X_zero = X_all_cust_grp_scale.iloc[best_agg_model.labels_==0]\n",
    "\n",
    "X_one = X_all_cust_grp_scale.iloc[best_agg_model.labels_==1]\n",
    "\n",
    "#X_two = X_all_cust_grp.iloc[best_agg_model.labels_==2]\n",
    "#print(X_zero.describe().T)\n",
    "#print(X_one.describe().T)\n",
    "\n",
    "print(X_zero.shape[0])\n",
    "print(X_one.shape[0])\n",
    "\n",
    "A = (X_zero.describe().T/X_zero.shape[0] - X_one.describe().T/X_one.shape[0])*(X_zero.shape[0]+X_one.shape[0])\n",
    "\n",
    "print(A.sort_values(by ='mean', ascending=False))"
   ]
  },
  {
   "cell_type": "code",
   "execution_count": 370,
   "metadata": {},
   "outputs": [
    {
     "data": {
      "text/plain": [
       "Text(0.5, 1.0, 'Mean Differences Between Groups (Scaled)')"
      ]
     },
     "execution_count": 370,
     "metadata": {},
     "output_type": "execute_result"
    },
    {
     "data": {
      "image/png": "[encoded data removed]",
      "text/plain": [
       "<Figure size 288x360 with 1 Axes>"
      ]
     },
     "metadata": {
      "needs_background": "light"
     },
     "output_type": "display_data"
    },
    {
     "data": {
      "image/png": "[encoded data removed]",
      "text/plain": [
       "<Figure size 418.609x360 with 1 Axes>"
      ]
     },
     "metadata": {
      "needs_background": "light"
     },
     "output_type": "display_data"
    }
   ],
   "source": [
    "#Bar plot of above....\n",
    "import scipy.stats as stats\n",
    "\n",
    "results = [] ; \n",
    "\n",
    "test_index = ['basket_price_sensitivity_UM_sum',\n",
    "                        'shop_diff_mean',\n",
    "                        'basket_price_sensitivity_MM_max',\n",
    "                        'basket_price_sensitivity_LA_max',\n",
    "                        \n",
    "                        ]\n",
    "for var in test_index:\n",
    "    \n",
    "    mean_diff = X_zero[var].mean() - X_one[var].mean()\n",
    "\n",
    "    results.append([var,X_zero[var].mean(),X_one[var].mean(), -1*mean_diff, stats.f_oneway(X_zero[var], X_one[var])[0],stats.f_oneway(X_zero[var], X_one[var])[1] ])\n",
    "\n",
    "results_df = pd.DataFrame(results,columns = ['Variable','Group_1_mean','Group_2_mean','Mean_Diff','Fstat','P_value'])\n",
    "\n",
    "#results_df = results_df.sort_values(by = 'Mean_Diff', ascending=False)\n",
    "\n",
    "results_df['hue_r'] = results_df['Mean_Diff']<3\n",
    "\n",
    "#plt.rcParams[\"figure.figsize\"] = (8=20, 4)\n",
    "fig_dims = (4, 5)\n",
    "fig, ax = plt.subplots(figsize=fig_dims)\n",
    "chart = sns.catplot(x='Variable',y='Mean_Diff',data=results_df,hue='hue_r',kind='bar', ax=ax)\n",
    "ax.get_legend().remove()\n",
    "ax.set_xticklabels(ax.get_xticklabels(), rotation=45)\n",
    "ax.set_xticklabels(['BPS Upper Market','Days Between Visits','BPS Middle Market','BPS Lower Market'],fontsize='large')\n",
    "ax.set_xlabel('variable',fontsize='x-large')\n",
    "ax.set_ylabel('Mean(G1) - Mean(G2)',fontsize='large')\n",
    "ax.set_title('Mean Differences Between Groups (Scaled)',fontsize='x-large')\n"
   ]
  },
  {
   "cell_type": "code",
   "execution_count": 330,
   "metadata": {},
   "outputs": [
    {
     "data": {
      "text/html": [
       "<div>\n",
       "<style scoped>\n",
       "    .dataframe tbody tr th:only-of-type {\n",
       "        vertical-align: middle;\n",
       "    }\n",
       "\n",
       "    .dataframe tbody tr th {\n",
       "        vertical-align: top;\n",
       "    }\n",
       "\n",
       "    .dataframe thead th {\n",
       "        text-align: right;\n",
       "    }\n",
       "</style>\n",
       "<table border=\"1\" class=\"dataframe\">\n",
       "  <thead>\n",
       "    <tr style=\"text-align: right;\">\n",
       "      <th></th>\n",
       "      <th>Variable</th>\n",
       "      <th>Group_1_mean</th>\n",
       "      <th>Group_2_mean</th>\n",
       "      <th>Mean_Diff</th>\n",
       "      <th>Fstat</th>\n",
       "      <th>P_value</th>\n",
       "    </tr>\n",
       "  </thead>\n",
       "  <tbody>\n",
       "    <tr>\n",
       "      <td>0</td>\n",
       "      <td>basket_price_sensitivity_LA_max</td>\n",
       "      <td>0.110739</td>\n",
       "      <td>-0.085247</td>\n",
       "      <td>0.195987</td>\n",
       "      <td>5.322108</td>\n",
       "      <td>0.021445</td>\n",
       "    </tr>\n",
       "    <tr>\n",
       "      <td>1</td>\n",
       "      <td>basket_price_sensitivity_MM_max</td>\n",
       "      <td>0.106701</td>\n",
       "      <td>-0.072989</td>\n",
       "      <td>0.179690</td>\n",
       "      <td>6.083106</td>\n",
       "      <td>0.013966</td>\n",
       "    </tr>\n",
       "    <tr>\n",
       "      <td>3</td>\n",
       "      <td>shop_diff_mean</td>\n",
       "      <td>-0.052544</td>\n",
       "      <td>0.078692</td>\n",
       "      <td>-0.131236</td>\n",
       "      <td>2.179796</td>\n",
       "      <td>0.140433</td>\n",
       "    </tr>\n",
       "    <tr>\n",
       "      <td>2</td>\n",
       "      <td>basket_price_sensitivity_UM_sum</td>\n",
       "      <td>-0.069903</td>\n",
       "      <td>0.096552</td>\n",
       "      <td>-0.166455</td>\n",
       "      <td>3.683948</td>\n",
       "      <td>0.055480</td>\n",
       "    </tr>\n",
       "  </tbody>\n",
       "</table>\n",
       "</div>"
      ],
      "text/plain": [
       "                          Variable  Group_1_mean  Group_2_mean  Mean_Diff  \\\n",
       "0  basket_price_sensitivity_LA_max      0.110739     -0.085247   0.195987   \n",
       "1  basket_price_sensitivity_MM_max      0.106701     -0.072989   0.179690   \n",
       "3                   shop_diff_mean     -0.052544      0.078692  -0.131236   \n",
       "2  basket_price_sensitivity_UM_sum     -0.069903      0.096552  -0.166455   \n",
       "\n",
       "      Fstat   P_value  \n",
       "0  5.322108  0.021445  \n",
       "1  6.083106  0.013966  \n",
       "3  2.179796  0.140433  \n",
       "2  3.683948  0.055480  "
      ]
     },
     "execution_count": 330,
     "metadata": {},
     "output_type": "execute_result"
    }
   ],
   "source": [
    "results_df"
   ]
  },
  {
   "cell_type": "code",
   "execution_count": null,
   "metadata": {},
   "outputs": [],
   "source": [
    "\n",
    "\n",
    "X_all_cust_grp.head()\n"
   ]
  },
  {
   "cell_type": "raw",
   "metadata": {},
   "source": [
    "B = (X_zero.describe().T['mean']/X_zero.shape[0])*(X_zero.shape[0]+X_one.shape[0])\n",
    "C = (X_one.describe().T['mean']/X_one.shape[0])*(X_zero.shape[0]+X_one.shape[0])\n",
    "\n",
    "frame = { 'Group_1_YA': B, 'Group_2_YA': C } \n",
    "  \n",
    "YA_df = pd.DataFrame(frame) \n",
    "\n",
    "YA_df = YA_df.sort_index()\n",
    "\n",
    "YA_df"
   ]
  },
  {
   "cell_type": "code",
   "execution_count": null,
   "metadata": {},
   "outputs": [],
   "source": [
    "\n",
    "X_zero_p = X_all_cust_grp.iloc[best_agg_model.labels_==0]\n",
    "\n",
    "X_one_p = X_all_cust_grp.iloc[best_agg_model.labels_==1]\n",
    "\n",
    "print('Group_0 total spend',(X_zero_p['sum_spend_mean']*X_zero_p['basket_size_L_count']).sum())\n",
    "print('Group_1 total spend',(X_one_p['sum_spend_mean']*X_one_p['basket_size_L_count']).sum())"
   ]
  },
  {
   "cell_type": "code",
   "execution_count": null,
   "metadata": {},
   "outputs": [],
   "source": [
    "print(X_zero.shape[0])\n",
    "print(X_one.shape[0])"
   ]
  },
  {
   "cell_type": "code",
   "execution_count": null,
   "metadata": {},
   "outputs": [],
   "source": [
    "results_df.head()\n"
   ]
  },
  {
   "cell_type": "code",
   "execution_count": null,
   "metadata": {},
   "outputs": [],
   "source": [
    "print(results_df['Variable'] == 'basket_type_Small Shop_sum')"
   ]
  },
  {
   "cell_type": "code",
   "execution_count": null,
   "metadata": {},
   "outputs": [],
   "source": [
    "results_df['Variable'] == [\"basket_size_S_sum\"]"
   ]
  },
  {
   "cell_type": "code",
   "execution_count": 333,
   "metadata": {},
   "outputs": [
    {
     "data": {
      "text/plain": [
       "0     True\n",
       "1     True\n",
       "3    False\n",
       "2    False\n",
       "Name: Mean_Diff, dtype: bool"
      ]
     },
     "execution_count": 333,
     "metadata": {},
     "output_type": "execute_result"
    }
   ],
   "source": [
    "hue_r"
   ]
  },
  {
   "cell_type": "code",
   "execution_count": null,
   "metadata": {},
   "outputs": [],
   "source": []
  }
 ],
 "metadata": {
  "kernelspec": {
   "display_name": "Python 3",
   "language": "python",
   "name": "python3"
  },
  "language_info": {
   "codemirror_mode": {
    "name": "ipython",
    "version": 3
   },
   "file_extension": ".py",
   "mimetype": "text/x-python",
   "name": "python",
   "nbconvert_exporter": "python",
   "pygments_lexer": "ipython3",
   "version": "3.7.6"
  }
 },
 "nbformat": 4,
 "nbformat_minor": 2
}
